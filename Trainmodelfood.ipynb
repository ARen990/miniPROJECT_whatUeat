{
  "nbformat": 4,
  "nbformat_minor": 0,
  "metadata": {
    "colab": {
      "provenance": [],
      "gpuType": "T4"
    },
    "kernelspec": {
      "name": "python3",
      "display_name": "Python 3"
    },
    "language_info": {
      "name": "python"
    },
    "accelerator": "GPU"
  },
  "cells": [
    {
      "cell_type": "code",
      "source": [
        "import pandas as pd\n",
        "import numpy as np\n",
        "import pickle\n",
        "import tensorflow as tf\n",
        "import matplotlib.pyplot as plt\n",
        "from ast import literal_eval\n",
        "from sklearn.model_selection import train_test_split\n",
        "from tensorflow.keras.models import Model, load_model\n",
        "from tensorflow.keras.layers import Input, Embedding, LSTM, Dense, Lambda\n",
        "from tensorflow.keras.optimizers import Adam\n",
        "from tensorflow.keras.preprocessing.text import Tokenizer\n",
        "from tensorflow.keras.preprocessing.sequence import pad_sequences\n",
        "from tensorflow.keras import backend as K\n",
        "from keras.saving import register_keras_serializable\n",
        "from tensorflow.keras.models import load_model\n",
        "import os"
      ],
      "metadata": {
        "id": "eH2bLRefDox-"
      },
      "execution_count": null,
      "outputs": []
    },
    {
      "cell_type": "code",
      "execution_count": null,
      "metadata": {
        "id": "JJ-1PU0GDVBW"
      },
      "outputs": [],
      "source": [
        "# Load dataset\n",
        "def load_data():\n",
        "    file_path = \"/content/cleaned1_thailand_foods.csv\"\n",
        "    df = pd.read_csv(file_path)\n",
        "    df[\"ingredients\"] = df[\"ingredients\"].apply(literal_eval)\n",
        "    df[\"ingredient_text\"] = df[\"ingredients\"].apply(lambda ing: \" \".join(ing))\n",
        "    return df\n",
        "\n",
        "df = load_data()\n"
      ]
    },
    {
      "cell_type": "code",
      "source": [
        "@register_keras_serializable()\n",
        "class AttentionLayer(tf.keras.layers.Layer):\n",
        "    def __init__(self, **kwargs):\n",
        "        super(AttentionLayer, self).__init__(**kwargs)\n",
        "        self.attention = Dense(1, activation='tanh')\n",
        "\n",
        "    def call(self, inputs):\n",
        "        weights = self.attention(inputs)\n",
        "        weights = tf.nn.softmax(weights, axis=1)\n",
        "        return tf.reduce_sum(inputs * weights, axis=1)\n"
      ],
      "metadata": {
        "id": "5PcaLasbfQnJ"
      },
      "execution_count": null,
      "outputs": []
    },
    {
      "source": [
        "# Tokenize ingredients\n",
        "tokenizer = Tokenizer()\n",
        "tokenizer.fit_on_texts(df[\"ingredient_text\"])\n",
        "sequences = tokenizer.texts_to_sequences(df[\"ingredient_text\"])\n",
        "max_len = max(map(len, sequences))\n",
        "x_data = pad_sequences(sequences, maxlen=max_len)\n",
        "\n",
        "# Define the attention layer outside the attention_mechanism function\n",
        "attention_layer = Dense(1, activation='tanh') # Define attention layer here\n",
        "\n",
        "@register_keras_serializable()\n",
        "def attention_mechanism(inputs):\n",
        "    # Use the pre-defined attention layer\n",
        "    weights = attention_layer(inputs)\n",
        "    weights = tf.nn.softmax(weights, axis=1)\n",
        "    return tf.reduce_sum(inputs * weights, axis=1)\n",
        "\n",
        "@register_keras_serializable()\n",
        "def euclidean_distance(vectors):\n",
        "    x, y = vectors\n",
        "    return K.sqrt(K.maximum(K.sum(K.square(x - y), axis=1, keepdims=True), K.epsilon()))\n",
        "\n",
        "def create_siamese_model(vocab_size, embedding_dim=128, lstm_units=64):\n",
        "    input_a = Input(shape=(max_len,))\n",
        "    input_b = Input(shape=(max_len,))\n",
        "\n",
        "    embedding = Embedding(vocab_size, embedding_dim, input_length=max_len)\n",
        "    lstm = LSTM(lstm_units, return_sequences=True)\n",
        "\n",
        "    encoded_a = lstm(embedding(input_a))\n",
        "    encoded_b = lstm(embedding(input_b))\n",
        "\n",
        "    attention_layer = AttentionLayer()\n",
        "\n",
        "    encoded_a = attention_layer(encoded_a)\n",
        "    encoded_b = attention_layer(encoded_b)\n",
        "\n",
        "    distance = Lambda(euclidean_distance)([encoded_a, encoded_b])\n",
        "    output = Dense(1, activation='sigmoid')(distance)\n",
        "\n",
        "    model = Model(inputs=[input_a, input_b], outputs=output)\n",
        "    model.compile(loss='binary_crossentropy', optimizer=Adam(0.0005), metrics=['accuracy'])\n",
        "    return model\n"
      ],
      "cell_type": "code",
      "metadata": {
        "id": "jdesFe5zdpUP"
      },
      "execution_count": null,
      "outputs": []
    },
    {
      "cell_type": "code",
      "source": [
        "# Create and compile the model\n",
        "vocab_size = len(tokenizer.word_index) + 1\n",
        "siamese_model = create_siamese_model(vocab_size)"
      ],
      "metadata": {
        "colab": {
          "base_uri": "https://localhost:8080/"
        },
        "id": "psxh0sTRDzRO",
        "outputId": "3dc16855-7488-4c88-cb09-d94b7ed99b7d"
      },
      "execution_count": null,
      "outputs": [
        {
          "output_type": "stream",
          "name": "stderr",
          "text": [
            "/usr/local/lib/python3.11/dist-packages/keras/src/layers/core/embedding.py:90: UserWarning: Argument `input_length` is deprecated. Just remove it.\n",
            "  warnings.warn(\n"
          ]
        }
      ]
    },
    {
      "cell_type": "code",
      "source": [
        "# Train/Test Split\n",
        "x_train, x_test = train_test_split(x_data, test_size=0.2, random_state=42)"
      ],
      "metadata": {
        "id": "lSuSFwzlJfkj"
      },
      "execution_count": null,
      "outputs": []
    },
    {
      "cell_type": "code",
      "source": [
        "# Generate pairs for training\n",
        "def generate_pairs(x_data):\n",
        "    pairs = []\n",
        "    labels = []\n",
        "    for i in range(len(x_data)):\n",
        "        for j in range(len(x_data)):\n",
        "            if i != j:\n",
        "                pairs.append([x_data[i], x_data[j]])\n",
        "                labels.append(1 if df.iloc[i]['course'] == df.iloc[j]['course'] else 0)\n",
        "    return np.array(pairs), np.array(labels)"
      ],
      "metadata": {
        "id": "TfA1X-YkJl_5"
      },
      "execution_count": null,
      "outputs": []
    },
    {
      "cell_type": "code",
      "source": [
        "siamese_model.summary()\n"
      ],
      "metadata": {
        "colab": {
          "base_uri": "https://localhost:8080/",
          "height": 466
        },
        "id": "cdE3JpuGfZzP",
        "outputId": "4652a930-e622-4fa9-9192-1694b5dbb66e"
      },
      "execution_count": null,
      "outputs": [
        {
          "output_type": "display_data",
          "data": {
            "text/plain": [
              "\u001b[1mModel: \"functional_14\"\u001b[0m\n"
            ],
            "text/html": [
              "<pre style=\"white-space:pre;overflow-x:auto;line-height:normal;font-family:Menlo,'DejaVu Sans Mono',consolas,'Courier New',monospace\"><span style=\"font-weight: bold\">Model: \"functional_14\"</span>\n",
              "</pre>\n"
            ]
          },
          "metadata": {}
        },
        {
          "output_type": "display_data",
          "data": {
            "text/plain": [
              "┏━━━━━━━━━━━━━━━━━━━━━━━━━━━┳━━━━━━━━━━━━━━━━━━━━━━━━┳━━━━━━━━━━━━━━━━┳━━━━━━━━━━━━━━━━━━━━━━━━┓\n",
              "┃\u001b[1m \u001b[0m\u001b[1mLayer (type)             \u001b[0m\u001b[1m \u001b[0m┃\u001b[1m \u001b[0m\u001b[1mOutput Shape          \u001b[0m\u001b[1m \u001b[0m┃\u001b[1m \u001b[0m\u001b[1m       Param #\u001b[0m\u001b[1m \u001b[0m┃\u001b[1m \u001b[0m\u001b[1mConnected to          \u001b[0m\u001b[1m \u001b[0m┃\n",
              "┡━━━━━━━━━━━━━━━━━━━━━━━━━━━╇━━━━━━━━━━━━━━━━━━━━━━━━╇━━━━━━━━━━━━━━━━╇━━━━━━━━━━━━━━━━━━━━━━━━┩\n",
              "│ input_layer_28            │ (\u001b[38;5;45mNone\u001b[0m, \u001b[38;5;34m9\u001b[0m)              │              \u001b[38;5;34m0\u001b[0m │ -                      │\n",
              "│ (\u001b[38;5;33mInputLayer\u001b[0m)              │                        │                │                        │\n",
              "├───────────────────────────┼────────────────────────┼────────────────┼────────────────────────┤\n",
              "│ input_layer_29            │ (\u001b[38;5;45mNone\u001b[0m, \u001b[38;5;34m9\u001b[0m)              │              \u001b[38;5;34m0\u001b[0m │ -                      │\n",
              "│ (\u001b[38;5;33mInputLayer\u001b[0m)              │                        │                │                        │\n",
              "├───────────────────────────┼────────────────────────┼────────────────┼────────────────────────┤\n",
              "│ embedding_14 (\u001b[38;5;33mEmbedding\u001b[0m)  │ (\u001b[38;5;45mNone\u001b[0m, \u001b[38;5;34m9\u001b[0m, \u001b[38;5;34m128\u001b[0m)         │         \u001b[38;5;34m22,016\u001b[0m │ input_layer_28[\u001b[38;5;34m0\u001b[0m][\u001b[38;5;34m0\u001b[0m],  │\n",
              "│                           │                        │                │ input_layer_29[\u001b[38;5;34m0\u001b[0m][\u001b[38;5;34m0\u001b[0m]   │\n",
              "├───────────────────────────┼────────────────────────┼────────────────┼────────────────────────┤\n",
              "│ lstm_14 (\u001b[38;5;33mLSTM\u001b[0m)            │ (\u001b[38;5;45mNone\u001b[0m, \u001b[38;5;34m9\u001b[0m, \u001b[38;5;34m64\u001b[0m)          │         \u001b[38;5;34m49,408\u001b[0m │ embedding_14[\u001b[38;5;34m0\u001b[0m][\u001b[38;5;34m0\u001b[0m],    │\n",
              "│                           │                        │                │ embedding_14[\u001b[38;5;34m1\u001b[0m][\u001b[38;5;34m0\u001b[0m]     │\n",
              "├───────────────────────────┼────────────────────────┼────────────────┼────────────────────────┤\n",
              "│ attention_layer_14        │ (\u001b[38;5;45mNone\u001b[0m, \u001b[38;5;34m64\u001b[0m)             │             \u001b[38;5;34m65\u001b[0m │ lstm_14[\u001b[38;5;34m0\u001b[0m][\u001b[38;5;34m0\u001b[0m],         │\n",
              "│ (\u001b[38;5;33mAttentionLayer\u001b[0m)          │                        │                │ lstm_14[\u001b[38;5;34m1\u001b[0m][\u001b[38;5;34m0\u001b[0m]          │\n",
              "├───────────────────────────┼────────────────────────┼────────────────┼────────────────────────┤\n",
              "│ lambda_14 (\u001b[38;5;33mLambda\u001b[0m)        │ (\u001b[38;5;45mNone\u001b[0m, \u001b[38;5;34m1\u001b[0m)              │              \u001b[38;5;34m0\u001b[0m │ attention_layer_14[\u001b[38;5;34m0\u001b[0m]… │\n",
              "│                           │                        │                │ attention_layer_14[\u001b[38;5;34m1\u001b[0m]… │\n",
              "├───────────────────────────┼────────────────────────┼────────────────┼────────────────────────┤\n",
              "│ dense_44 (\u001b[38;5;33mDense\u001b[0m)          │ (\u001b[38;5;45mNone\u001b[0m, \u001b[38;5;34m1\u001b[0m)              │              \u001b[38;5;34m2\u001b[0m │ lambda_14[\u001b[38;5;34m0\u001b[0m][\u001b[38;5;34m0\u001b[0m]        │\n",
              "└───────────────────────────┴────────────────────────┴────────────────┴────────────────────────┘\n"
            ],
            "text/html": [
              "<pre style=\"white-space:pre;overflow-x:auto;line-height:normal;font-family:Menlo,'DejaVu Sans Mono',consolas,'Courier New',monospace\">┏━━━━━━━━━━━━━━━━━━━━━━━━━━━┳━━━━━━━━━━━━━━━━━━━━━━━━┳━━━━━━━━━━━━━━━━┳━━━━━━━━━━━━━━━━━━━━━━━━┓\n",
              "┃<span style=\"font-weight: bold\"> Layer (type)              </span>┃<span style=\"font-weight: bold\"> Output Shape           </span>┃<span style=\"font-weight: bold\">        Param # </span>┃<span style=\"font-weight: bold\"> Connected to           </span>┃\n",
              "┡━━━━━━━━━━━━━━━━━━━━━━━━━━━╇━━━━━━━━━━━━━━━━━━━━━━━━╇━━━━━━━━━━━━━━━━╇━━━━━━━━━━━━━━━━━━━━━━━━┩\n",
              "│ input_layer_28            │ (<span style=\"color: #00d7ff; text-decoration-color: #00d7ff\">None</span>, <span style=\"color: #00af00; text-decoration-color: #00af00\">9</span>)              │              <span style=\"color: #00af00; text-decoration-color: #00af00\">0</span> │ -                      │\n",
              "│ (<span style=\"color: #0087ff; text-decoration-color: #0087ff\">InputLayer</span>)              │                        │                │                        │\n",
              "├───────────────────────────┼────────────────────────┼────────────────┼────────────────────────┤\n",
              "│ input_layer_29            │ (<span style=\"color: #00d7ff; text-decoration-color: #00d7ff\">None</span>, <span style=\"color: #00af00; text-decoration-color: #00af00\">9</span>)              │              <span style=\"color: #00af00; text-decoration-color: #00af00\">0</span> │ -                      │\n",
              "│ (<span style=\"color: #0087ff; text-decoration-color: #0087ff\">InputLayer</span>)              │                        │                │                        │\n",
              "├───────────────────────────┼────────────────────────┼────────────────┼────────────────────────┤\n",
              "│ embedding_14 (<span style=\"color: #0087ff; text-decoration-color: #0087ff\">Embedding</span>)  │ (<span style=\"color: #00d7ff; text-decoration-color: #00d7ff\">None</span>, <span style=\"color: #00af00; text-decoration-color: #00af00\">9</span>, <span style=\"color: #00af00; text-decoration-color: #00af00\">128</span>)         │         <span style=\"color: #00af00; text-decoration-color: #00af00\">22,016</span> │ input_layer_28[<span style=\"color: #00af00; text-decoration-color: #00af00\">0</span>][<span style=\"color: #00af00; text-decoration-color: #00af00\">0</span>],  │\n",
              "│                           │                        │                │ input_layer_29[<span style=\"color: #00af00; text-decoration-color: #00af00\">0</span>][<span style=\"color: #00af00; text-decoration-color: #00af00\">0</span>]   │\n",
              "├───────────────────────────┼────────────────────────┼────────────────┼────────────────────────┤\n",
              "│ lstm_14 (<span style=\"color: #0087ff; text-decoration-color: #0087ff\">LSTM</span>)            │ (<span style=\"color: #00d7ff; text-decoration-color: #00d7ff\">None</span>, <span style=\"color: #00af00; text-decoration-color: #00af00\">9</span>, <span style=\"color: #00af00; text-decoration-color: #00af00\">64</span>)          │         <span style=\"color: #00af00; text-decoration-color: #00af00\">49,408</span> │ embedding_14[<span style=\"color: #00af00; text-decoration-color: #00af00\">0</span>][<span style=\"color: #00af00; text-decoration-color: #00af00\">0</span>],    │\n",
              "│                           │                        │                │ embedding_14[<span style=\"color: #00af00; text-decoration-color: #00af00\">1</span>][<span style=\"color: #00af00; text-decoration-color: #00af00\">0</span>]     │\n",
              "├───────────────────────────┼────────────────────────┼────────────────┼────────────────────────┤\n",
              "│ attention_layer_14        │ (<span style=\"color: #00d7ff; text-decoration-color: #00d7ff\">None</span>, <span style=\"color: #00af00; text-decoration-color: #00af00\">64</span>)             │             <span style=\"color: #00af00; text-decoration-color: #00af00\">65</span> │ lstm_14[<span style=\"color: #00af00; text-decoration-color: #00af00\">0</span>][<span style=\"color: #00af00; text-decoration-color: #00af00\">0</span>],         │\n",
              "│ (<span style=\"color: #0087ff; text-decoration-color: #0087ff\">AttentionLayer</span>)          │                        │                │ lstm_14[<span style=\"color: #00af00; text-decoration-color: #00af00\">1</span>][<span style=\"color: #00af00; text-decoration-color: #00af00\">0</span>]          │\n",
              "├───────────────────────────┼────────────────────────┼────────────────┼────────────────────────┤\n",
              "│ lambda_14 (<span style=\"color: #0087ff; text-decoration-color: #0087ff\">Lambda</span>)        │ (<span style=\"color: #00d7ff; text-decoration-color: #00d7ff\">None</span>, <span style=\"color: #00af00; text-decoration-color: #00af00\">1</span>)              │              <span style=\"color: #00af00; text-decoration-color: #00af00\">0</span> │ attention_layer_14[<span style=\"color: #00af00; text-decoration-color: #00af00\">0</span>]… │\n",
              "│                           │                        │                │ attention_layer_14[<span style=\"color: #00af00; text-decoration-color: #00af00\">1</span>]… │\n",
              "├───────────────────────────┼────────────────────────┼────────────────┼────────────────────────┤\n",
              "│ dense_44 (<span style=\"color: #0087ff; text-decoration-color: #0087ff\">Dense</span>)          │ (<span style=\"color: #00d7ff; text-decoration-color: #00d7ff\">None</span>, <span style=\"color: #00af00; text-decoration-color: #00af00\">1</span>)              │              <span style=\"color: #00af00; text-decoration-color: #00af00\">2</span> │ lambda_14[<span style=\"color: #00af00; text-decoration-color: #00af00\">0</span>][<span style=\"color: #00af00; text-decoration-color: #00af00\">0</span>]        │\n",
              "└───────────────────────────┴────────────────────────┴────────────────┴────────────────────────┘\n",
              "</pre>\n"
            ]
          },
          "metadata": {}
        },
        {
          "output_type": "display_data",
          "data": {
            "text/plain": [
              "\u001b[1m Total params: \u001b[0m\u001b[38;5;34m71,491\u001b[0m (279.26 KB)\n"
            ],
            "text/html": [
              "<pre style=\"white-space:pre;overflow-x:auto;line-height:normal;font-family:Menlo,'DejaVu Sans Mono',consolas,'Courier New',monospace\"><span style=\"font-weight: bold\"> Total params: </span><span style=\"color: #00af00; text-decoration-color: #00af00\">71,491</span> (279.26 KB)\n",
              "</pre>\n"
            ]
          },
          "metadata": {}
        },
        {
          "output_type": "display_data",
          "data": {
            "text/plain": [
              "\u001b[1m Trainable params: \u001b[0m\u001b[38;5;34m71,491\u001b[0m (279.26 KB)\n"
            ],
            "text/html": [
              "<pre style=\"white-space:pre;overflow-x:auto;line-height:normal;font-family:Menlo,'DejaVu Sans Mono',consolas,'Courier New',monospace\"><span style=\"font-weight: bold\"> Trainable params: </span><span style=\"color: #00af00; text-decoration-color: #00af00\">71,491</span> (279.26 KB)\n",
              "</pre>\n"
            ]
          },
          "metadata": {}
        },
        {
          "output_type": "display_data",
          "data": {
            "text/plain": [
              "\u001b[1m Non-trainable params: \u001b[0m\u001b[38;5;34m0\u001b[0m (0.00 B)\n"
            ],
            "text/html": [
              "<pre style=\"white-space:pre;overflow-x:auto;line-height:normal;font-family:Menlo,'DejaVu Sans Mono',consolas,'Courier New',monospace\"><span style=\"font-weight: bold\"> Non-trainable params: </span><span style=\"color: #00af00; text-decoration-color: #00af00\">0</span> (0.00 B)\n",
              "</pre>\n"
            ]
          },
          "metadata": {}
        }
      ]
    },
    {
      "cell_type": "code",
      "source": [
        "pairs, labels = generate_pairs(x_train)\n",
        "pairs = [pairs[:, 0], pairs[:, 1]]\n",
        "\n",
        "# Train the model and record history\n",
        "history = siamese_model.fit(pairs, labels, batch_size=64, epochs=15, validation_split=0.1)"
      ],
      "metadata": {
        "id": "fzsJJjR7JmnV",
        "colab": {
          "base_uri": "https://localhost:8080/"
        },
        "outputId": "41eb844a-6c6a-40f2-8792-979a7abb7830"
      },
      "execution_count": null,
      "outputs": [
        {
          "output_type": "stream",
          "name": "stdout",
          "text": [
            "Epoch 1/15\n",
            "\u001b[1m606/606\u001b[0m \u001b[32m━━━━━━━━━━━━━━━━━━━━\u001b[0m\u001b[37m\u001b[0m \u001b[1m9s\u001b[0m 10ms/step - accuracy: 0.6165 - loss: 0.6540 - val_accuracy: 0.6779 - val_loss: 0.5988\n",
            "Epoch 2/15\n",
            "\u001b[1m606/606\u001b[0m \u001b[32m━━━━━━━━━━━━━━━━━━━━\u001b[0m\u001b[37m\u001b[0m \u001b[1m5s\u001b[0m 8ms/step - accuracy: 0.8424 - loss: 0.5034 - val_accuracy: 0.6932 - val_loss: 0.5041\n",
            "Epoch 3/15\n",
            "\u001b[1m606/606\u001b[0m \u001b[32m━━━━━━━━━━━━━━━━━━━━\u001b[0m\u001b[37m\u001b[0m \u001b[1m6s\u001b[0m 10ms/step - accuracy: 0.8735 - loss: 0.4356 - val_accuracy: 0.6928 - val_loss: 0.5050\n",
            "Epoch 4/15\n",
            "\u001b[1m606/606\u001b[0m \u001b[32m━━━━━━━━━━━━━━━━━━━━\u001b[0m\u001b[37m\u001b[0m \u001b[1m10s\u001b[0m 9ms/step - accuracy: 0.8764 - loss: 0.3921 - val_accuracy: 0.7283 - val_loss: 0.4783\n",
            "Epoch 5/15\n",
            "\u001b[1m606/606\u001b[0m \u001b[32m━━━━━━━━━━━━━━━━━━━━\u001b[0m\u001b[37m\u001b[0m \u001b[1m10s\u001b[0m 8ms/step - accuracy: 0.8813 - loss: 0.3627 - val_accuracy: 0.7740 - val_loss: 0.4555\n",
            "Epoch 6/15\n",
            "\u001b[1m606/606\u001b[0m \u001b[32m━━━━━━━━━━━━━━━━━━━━\u001b[0m\u001b[37m\u001b[0m \u001b[1m6s\u001b[0m 9ms/step - accuracy: 0.8893 - loss: 0.3388 - val_accuracy: 0.7629 - val_loss: 0.4619\n",
            "Epoch 7/15\n",
            "\u001b[1m606/606\u001b[0m \u001b[32m━━━━━━━━━━━━━━━━━━━━\u001b[0m\u001b[37m\u001b[0m \u001b[1m5s\u001b[0m 8ms/step - accuracy: 0.8908 - loss: 0.3194 - val_accuracy: 0.8168 - val_loss: 0.4288\n",
            "Epoch 8/15\n",
            "\u001b[1m606/606\u001b[0m \u001b[32m━━━━━━━━━━━━━━━━━━━━\u001b[0m\u001b[37m\u001b[0m \u001b[1m6s\u001b[0m 10ms/step - accuracy: 0.8946 - loss: 0.2991 - val_accuracy: 0.8131 - val_loss: 0.4311\n",
            "Epoch 9/15\n",
            "\u001b[1m606/606\u001b[0m \u001b[32m━━━━━━━━━━━━━━━━━━━━\u001b[0m\u001b[37m\u001b[0m \u001b[1m5s\u001b[0m 8ms/step - accuracy: 0.8915 - loss: 0.2898 - val_accuracy: 0.8137 - val_loss: 0.4429\n",
            "Epoch 10/15\n",
            "\u001b[1m606/606\u001b[0m \u001b[32m━━━━━━━━━━━━━━━━━━━━\u001b[0m\u001b[37m\u001b[0m \u001b[1m5s\u001b[0m 9ms/step - accuracy: 0.8978 - loss: 0.2787 - val_accuracy: 0.8240 - val_loss: 0.4299\n",
            "Epoch 11/15\n",
            "\u001b[1m606/606\u001b[0m \u001b[32m━━━━━━━━━━━━━━━━━━━━\u001b[0m\u001b[37m\u001b[0m \u001b[1m10s\u001b[0m 8ms/step - accuracy: 0.8983 - loss: 0.2711 - val_accuracy: 0.8242 - val_loss: 0.4363\n",
            "Epoch 12/15\n",
            "\u001b[1m606/606\u001b[0m \u001b[32m━━━━━━━━━━━━━━━━━━━━\u001b[0m\u001b[37m\u001b[0m \u001b[1m6s\u001b[0m 9ms/step - accuracy: 0.9075 - loss: 0.2551 - val_accuracy: 0.8400 - val_loss: 0.4276\n",
            "Epoch 13/15\n",
            "\u001b[1m606/606\u001b[0m \u001b[32m━━━━━━━━━━━━━━━━━━━━\u001b[0m\u001b[37m\u001b[0m \u001b[1m10s\u001b[0m 9ms/step - accuracy: 0.9132 - loss: 0.2559 - val_accuracy: 0.8630 - val_loss: 0.4111\n",
            "Epoch 14/15\n",
            "\u001b[1m606/606\u001b[0m \u001b[32m━━━━━━━━━━━━━━━━━━━━\u001b[0m\u001b[37m\u001b[0m \u001b[1m5s\u001b[0m 8ms/step - accuracy: 0.9216 - loss: 0.2426 - val_accuracy: 0.8665 - val_loss: 0.4096\n",
            "Epoch 15/15\n",
            "\u001b[1m606/606\u001b[0m \u001b[32m━━━━━━━━━━━━━━━━━━━━\u001b[0m\u001b[37m\u001b[0m \u001b[1m5s\u001b[0m 8ms/step - accuracy: 0.9284 - loss: 0.2256 - val_accuracy: 0.8618 - val_loss: 0.3568\n"
          ]
        }
      ]
    },
    {
      "cell_type": "code",
      "source": [
        "# Save the model\n",
        "model_path = \"siamese_food_recommendation_model.h5\"\n",
        "siamese_model.save(model_path)\n",
        "# model = load_model(model_path comile = False)\n",
        "\n",
        "with open('tokenizer.pickle', 'wb') as handle:\n",
        "    pickle.dump(tokenizer, handle, protocol=pickle.HIGHEST_PROTOCOL)\n"
      ],
      "metadata": {
        "id": "9u_cz3D1F6t1",
        "colab": {
          "base_uri": "https://localhost:8080/"
        },
        "outputId": "53e26e6e-b3fb-4d4d-cf73-18e1bf00f0a3"
      },
      "execution_count": null,
      "outputs": [
        {
          "output_type": "stream",
          "name": "stderr",
          "text": [
            "WARNING:absl:You are saving your model as an HDF5 file via `model.save()` or `keras.saving.save_model(model)`. This file format is considered legacy. We recommend using instead the native Keras format, e.g. `model.save('my_model.keras')` or `keras.saving.save_model(model, 'my_model.keras')`. \n"
          ]
        }
      ]
    },
    {
      "cell_type": "code",
      "source": [
        "# Plot Accuracy and Loss\n",
        "def plot_training_history(history):\n",
        "    plt.figure(figsize=(12, 5))\n",
        "\n",
        "    # Plot accuracy\n",
        "    plt.subplot(1, 2, 1)\n",
        "    plt.plot(history.history['accuracy'], label='Train Accuracy')\n",
        "    plt.plot(history.history['val_accuracy'], label='Validation Accuracy')\n",
        "    plt.xlabel('Epochs')\n",
        "    plt.ylabel('Accuracy')\n",
        "    plt.legend()\n",
        "    plt.title('Model Accuracy')\n",
        "\n",
        "    # Plot loss\n",
        "    plt.subplot(1, 2, 2)\n",
        "    plt.plot(history.history['loss'], label='Train Loss')\n",
        "    plt.plot(history.history['val_loss'], label='Validation Loss')\n",
        "    plt.xlabel('Epochs')\n",
        "    plt.ylabel('Loss')\n",
        "    plt.legend()\n",
        "    plt.title('Model Loss')\n",
        "\n",
        "    plt.show()\n",
        "\n",
        "plot_training_history(history)"
      ],
      "metadata": {
        "id": "9DL0SUSm-vJM",
        "colab": {
          "base_uri": "https://localhost:8080/",
          "height": 317
        },
        "outputId": "3f699d1d-d5c4-4b48-8917-4b12c013c131"
      },
      "execution_count": null,
      "outputs": [
        {
          "output_type": "display_data",
          "data": {
            "text/plain": [
              "<Figure size 1200x500 with 2 Axes>"
            ],
            "image/png": "[encoded data removed]"
          },
          "metadata": {}
        }
      ]
    },
    {
      "cell_type": "code",
      "source": [
        "# Food Recommendation Function\n",
        "def recommend_foods(available_ingredients, allergic_ingredients, top_n=3):\n",
        "    input_seq = tokenizer.texts_to_sequences([\" \".join(available_ingredients)])\n",
        "    input_seq = pad_sequences(input_seq, maxlen=max_len)\n",
        "\n",
        "    filtered_df = df.copy()\n",
        "    filtered_df = filtered_df[~filtered_df[\"ingredients\"].apply(lambda ing: any(allergic in ing for allergic in allergic_ingredients))]\n",
        "\n",
        "    if filtered_df.empty:\n",
        "        return \"No matching ingredients found in the database. Please try different ingredients.\"\n",
        "\n",
        "    filtered_df[\"ingredient_text\"] = filtered_df[\"ingredients\"].apply(lambda ing: \" \".join(ing))\n",
        "    filtered_sequences = tokenizer.texts_to_sequences(filtered_df[\"ingredient_text\"])\n",
        "    filtered_sequences = pad_sequences(filtered_sequences, maxlen=max_len)\n",
        "\n",
        "    similarities = siamese_model.predict([np.tile(input_seq, (len(filtered_sequences), 1)), filtered_sequences]).flatten()\n",
        "\n",
        "    importance_scores = np.array([sum(1 for ing in available_ingredients if ing in row) for row in filtered_df[\"ingredients\"]])\n",
        "    weighted_similarities = similarities + (0.5 * importance_scores / max(importance_scores, default=1))\n",
        "\n",
        "    top_indices = weighted_similarities.argsort()[-top_n:][::-1]\n",
        "    recommended_menus = filtered_df.iloc[top_indices][[\"en_name\", \"th_name\", \"ingredients\"]]\n",
        "\n",
        "    return recommended_menus"
      ],
      "metadata": {
        "id": "kCwiGuCHJzt1"
      },
      "execution_count": null,
      "outputs": []
    },
    {
      "cell_type": "code",
      "source": [
        "# Test the model\n",
        "if __name__ == \"__main__\":\n",
        "    sample_available_ingredients = [\"rice\",\"meat\"]\n",
        "    sample_allergic_ingredients = [\"herbs\"]\n",
        "\n",
        "    recommendations = recommend_foods(sample_available_ingredients, sample_allergic_ingredients)\n",
        "    print(\"Recommended Menus:\")\n",
        "    print(recommendations)\n"
      ],
      "metadata": {
        "id": "EBmREe1pJ2i4",
        "colab": {
          "base_uri": "https://localhost:8080/"
        },
        "outputId": "9cfb4241-1be6-4dbd-d0dd-078a54651b49"
      },
      "execution_count": null,
      "outputs": [
        {
          "output_type": "stream",
          "name": "stdout",
          "text": [
            "\u001b[1m6/6\u001b[0m \u001b[32m━━━━━━━━━━━━━━━━━━━━\u001b[0m\u001b[37m\u001b[0m \u001b[1m0s\u001b[0m 6ms/step  \n",
            "Recommended Menus:\n",
            "        en_name    th_name                   ingredients\n",
            "259     Biryani    ข้าวหมก  [rice, spices, meat, yogurt]\n",
            "34     Kao Maew    ข้าวแมว              [rice, mackerel]\n",
            "174  Kraya Sadt  กระยาสารท        [rice, peanuts, sugar]\n"
          ]
        }
      ]
    },
    {
      "cell_type": "markdown",
      "source": [
        "#Test Model"
      ],
      "metadata": {
        "id": "3F8rJpJI038O"
      }
    },
    {
      "cell_type": "code",
      "source": [
        "import pickle\n",
        "import numpy as np\n",
        "import pandas as pd\n",
        "from ast import literal_eval\n",
        "from tensorflow.keras.preprocessing.text import Tokenizer\n",
        "from tensorflow.keras.preprocessing.sequence import pad_sequences\n",
        "from tensorflow.keras.models import load_model\n",
        "\n",
        "# load dataset\n",
        "def load_data():\n",
        "    file_path = \"/content/cleaned1_thailand_foods.csv\"  # ปรับ path ให้ตรงกับไฟล์จริง\n",
        "    df = pd.read_csv(file_path)\n",
        "    df[\"ingredients\"] = df[\"ingredients\"].apply(literal_eval)  # แปลง string -> list\n",
        "    df[\"ingredient_text\"] = df[\"ingredients\"].apply(lambda ing: \" \".join(ing))  # แปลงเป็นข้อความ\n",
        "    return df\n",
        "\n",
        "df = load_data()\n",
        "\n",
        "# load Tokenizer\n",
        "tokenizer = Tokenizer()\n",
        "tokenizer.fit_on_texts(df[\"ingredient_text\"])  # Fit tokenizer กับ dataset จริง\n",
        "sequences = tokenizer.texts_to_sequences(df[\"ingredient_text\"])\n",
        "max_len = max(map(len, sequences))  # หาความยาวสูงสุดของ sequence\n",
        "x_data = pad_sequences(sequences, maxlen=max_len)\n",
        "\n",
        "# load model\n",
        "custom_objects = {'AttentionLayer': AttentionLayer, 'euclidean_distance': euclidean_distance}\n",
        "siamese_model = load_model('/content/siamese_food_recommendation_model.h5', compile=False, custom_objects=custom_objects)\n",
        "\n",
        "def recommend_foods(available_ingredients, allergic_ingredients=[], top_n=3):\n",
        "    \"\"\"\n",
        "    ใช้โมเดลเปรียบเทียบวัตถุดิบกับเมนูใน dataset จริง และแนะนำเมนูที่ใกล้เคียงที่สุด\n",
        "\n",
        "    Parameters:\n",
        "    - available_ingredients (list): รายชื่อวัตถุดิบที่มี เช่น [\"rice\", \"chicken\"]\n",
        "    - allergic_ingredients (list): รายชื่อวัตถุดิบที่แพ้ (เมนูที่มีส่วนผสมเหล่านี้จะถูกกรองออก)\n",
        "    - top_n (int): จำนวนเมนูที่ต้องการให้โมเดลแนะนำ\n",
        "\n",
        "    Returns:\n",
        "    - DataFrame ของเมนูที่แนะนำ (เรียงตามค่าความคล้าย)\n",
        "    \"\"\"\n",
        "\n",
        "    input_text = \" \".join(available_ingredients)\n",
        "    input_seq = tokenizer.texts_to_sequences([input_text])\n",
        "    input_seq = pad_sequences(input_seq, maxlen=max_len)\n",
        "\n",
        "    # เมนูที่มีส่วนผสมที่ไม่ต้องการจะถูกกรองออก\n",
        "    filtered_df = df[~df[\"ingredients\"].apply(lambda ing: any(allergic in ing for allergic in allergic_ingredients))]\n",
        "\n",
        "    if filtered_df.empty:\n",
        "        return \"No suitable menus found. Try different ingredients.\"\n",
        "\n",
        "    filtered_sequences = tokenizer.texts_to_sequences(filtered_df[\"ingredient_text\"])\n",
        "    filtered_sequences = pad_sequences(filtered_sequences, maxlen=max_len)\n",
        "\n",
        "    # โมเดล Siamese คำนวณ similarity ระหว่าง input กับเมนูใน dataset\n",
        "    similarities = siamese_model.predict([np.tile(input_seq, (len(filtered_sequences), 1)), filtered_sequences]).flatten()\n",
        "\n",
        "    importance_scores = np.array([sum(1 for ing in available_ingredients if ing in row) for row in filtered_df[\"ingredients\"]])\n",
        "    weighted_similarities = similarities + (0.5 * importance_scores / max(importance_scores, default=1))\n",
        "\n",
        "    top_indices = weighted_similarities.argsort()[-top_n:][::-1]\n",
        "    recommended_menus = filtered_df.iloc[top_indices][[\"en_name\", \"th_name\", \"ingredients\"]]\n",
        "\n",
        "    return recommended_menus\n",
        "\n",
        "sample_available_ingredients = [\"rice\", \"chicken\"]\n",
        "sample_allergic_ingredients = [\"peanuts\"]\n",
        "\n",
        "recommendations = recommend_foods(sample_available_ingredients, sample_allergic_ingredients, top_n=3)\n",
        "\n",
        "print(\"Recommended Menus:\")\n",
        "print(recommendations)\n"
      ],
      "metadata": {
        "id": "Ou8LkUB89rpU",
        "colab": {
          "base_uri": "https://localhost:8080/"
        },
        "outputId": "e23e1320-8115-4736-fa1b-77ee74fa3250"
      },
      "execution_count": 11,
      "outputs": [
        {
          "output_type": "stream",
          "name": "stdout",
          "text": [
            "\u001b[1m9/9\u001b[0m \u001b[32m━━━━━━━━━━━━━━━━━━━━\u001b[0m\u001b[37m\u001b[0m \u001b[1m0s\u001b[0m 31ms/step\n",
            "Recommended Menus:\n",
            "      en_name  th_name                   ingredients\n",
            "34   Kao Maew  ข้าวแมว              [rice, mackerel]\n",
            "259   Biryani  ข้าวหมก  [rice, spices, meat, yogurt]\n",
            "237  Kai Jo     ไก่จ๊อ         [chicken, flour, egg]\n"
          ]
        }
      ]
    }
  ]
}